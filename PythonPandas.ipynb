#importação biblioteca
import pandas as pd
df = pd.read_excel (r'file')
Display(df)

#para agrupar os dados de acordo com alguma referência Ex ID Loja
groupby()

#Soma os valores
SUM() 
faturamento = df[['id loja', 'valor final']].groupby('id loja').sum()

#Rankeamento maior menor
faturamento = faturamento.sort_values(by='valor final' ascending=FALSE)

#Calculo ticket medio
ticket medio = (faturamento['valor final] / quantidade['Quantidade'].to_frame()

#renomear colunas
ticket_medio = ticket_medio. rename (columns={0:'Ticket Médio'})

#função enviar e-mail
import smtplib
import email.message

# Configuração
host = '<HOST_URL'>
port = 587
user = '<USUARIO>'
password = '<SENHA>'

# Criando objeto
print('Criando objeto servidor...')
server = smtplib.SMTP(host, port)

# Login com servidor
print('Login...')
server.ehlo()
server.starttls()
server.login(user, password)

# Criando mensagem
message = 'Olá, mundo!'
print('Criando mensagem...')
email_msg = MIMEMultipart()
email_msg['From'] = user
email_msg['To'] = '<EMAIL_DE_DESTINO>'
email_msg['Subject'] = 'Assunto da mensagem'
print('Adicionando texto...')
email_msg.attach(MIMEText(message, 'plain'))

print('Obtendo arquivo...')
filename = 'nome' 
filepath = 'pasta/nome'
attachment = open(filepath, 'rb')

print('Lendo arquivo...')
att = MIMEBase('application', 'octet-stream')
att.set_payload(attachment.read())
encoders.encode_base64(att)
att.add_header('Content-Disposition', f'attachment; filename= {filename}')

attachment.close()
print('Adicionando arquivo ao email...')
email_msg.attach(att)

# Enviando mensagem
print('Enviando mensagem...')
server.sendmail(msg['From'], msg['To'], msg.as_string())
print('Mensagem enviada!')
server.quit()
